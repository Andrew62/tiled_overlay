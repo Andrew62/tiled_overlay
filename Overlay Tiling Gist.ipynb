{
 "cells": [
  {
   "cell_type": "markdown",
   "metadata": {},
   "source": [
    "## Creating an image tiling with NumPy and PIL\n",
    "\n",
    "I needed a way to create a KML overlay for large areas. Just outputting a matplotlib figure and writing a kml overlay wasn't working for me because the image would get distorted. In my development environment I don't have access to the matplotlib basemap or the liesure to download whatever software I need on the production system. So to save myself some hassle I wanted to create a kml overlay and use image tiles to impress more coordinate information on the result."
   ]
  },
  {
   "cell_type": "markdown",
   "metadata": {},
   "source": [
    "## Scikit-Learn exmaple data\n",
    "I'm using the [sklearn kernel density](http://scikit-learn.org/stable/auto_examples/neighbors/plot_species_kde.html) example because everyone should have access to the data and it runs fairly quick. I took out the code to iterate over species because I just want the one tile. Extendiding to multiple overlays is possible and only requires a slight modification to the output kml."
   ]
  },
  {
   "cell_type": "code",
   "execution_count": 1,
   "metadata": {
    "collapsed": true
   },
   "outputs": [],
   "source": [
    "import os\n",
    "import numpy as np\n",
    "from PIL import Image\n",
    "from zipfile import ZipFile\n",
    "import matplotlib.pyplot as plt\n",
    "from sklearn.neighbors import KernelDensity\n",
    "from sklearn.datasets import fetch_species_distributions\n",
    "from sklearn.datasets.species_distributions import construct_grids"
   ]
  },
  {
   "cell_type": "code",
   "execution_count": 2,
   "metadata": {
    "collapsed": true
   },
   "outputs": [],
   "source": [
    "%matplotlib inline"
   ]
  },
  {
   "cell_type": "code",
   "execution_count": 3,
   "metadata": {
    "collapsed": true
   },
   "outputs": [],
   "source": [
    "# The SKLearn code throws a warning\n",
    "import warnings\n",
    "warnings.filterwarnings('ignore')"
   ]
  },
  {
   "cell_type": "markdown",
   "metadata": {},
   "source": [
    "## Example SKLearn Code\n",
    "\n",
    "I also added the corner points to the plot so you can see that the combination of lats and longs cover the output extent and can be used for the eventual overlay extent. \n",
    "\n",
    "If you're familiar with matplotlib then you probably know that you can chunk up a plot with the plt.axis method, but then you'll run into issues with whitespace which I couldn't get around plus the matplotlib GUI would flash on the screen. "
   ]
  },
  {
   "cell_type": "code",
   "execution_count": 4,
   "metadata": {
    "collapsed": false
   },
   "outputs": [
    {
     "name": "stdout",
     "output_type": "stream",
     "text": [
      " - computing KDE in spherical coordinates\n"
     ]
    },
    {
     "data": {
      "image/png": "[encoded data removed]",
      "text/plain": [
       "<matplotlib.figure.Figure at 0x1071f3a90>"
      ]
     },
     "metadata": {},
     "output_type": "display_data"
    }
   ],
   "source": [
    "###### # Get matrices/arrays of species IDs and locations\n",
    "data = fetch_species_distributions()\n",
    "species_names = ['Bradypus Variegatus', 'Microryzomys Minutus']\n",
    "\n",
    "Xtrain = np.deg2rad(np.vstack([data['train']['dd lat'],\n",
    "                    data['train']['dd long']]).T)\n",
    "ytrain = np.array([d.decode('ascii').startswith('micro')\n",
    "                  for d in data['train']['species']], dtype='int')\n",
    "\n",
    "# Set up the data grid for the contour plot\n",
    "xgrid, ygrid = construct_grids(data)\n",
    "X, Y = np.meshgrid(xgrid[::5], ygrid[::5][::-1])\n",
    "\n",
    "xy = np.vstack([Y.ravel(), X.ravel()]).T\n",
    "xy = np.deg2rad(xy)\n",
    "\n",
    "i = 0\n",
    "\n",
    "# Plot map of South America with distributions of each species\n",
    "# construct a kernel density estimate of the distribution\n",
    "print(\" - computing KDE in spherical coordinates\")\n",
    "kde = KernelDensity(bandwidth=0.004, metric='haversine',\n",
    "                    kernel='gaussian', algorithm='ball_tree')\n",
    "kde.fit(Xtrain[ytrain == i])\n",
    "\n",
    "# evaluate only on the land: -9999 indicates ocean\n",
    "# Z = -9999 + np.zeros(land_mask.shape[0])\n",
    "Z = np.exp(kde.score_samples(xy))\n",
    "Z = Z.reshape(X.shape)\n",
    "\n",
    "# plot contours of the density\n",
    "levels = np.linspace(0, Z.max(), 25)\n",
    "plt.contourf(X, Y, Z, levels=levels, cmap=plt.cm.Reds)\n",
    "plt.scatter([X.max(), X.min()], [Y.max(), Y.min()], marker=\"^\")\n",
    "plt.title(species_names[i])\n",
    "\n",
    "plt.show()\n"
   ]
  },
  {
   "cell_type": "markdown",
   "metadata": {},
   "source": [
    "## Step 1. Scale the array result\n",
    "The values out of kernel density will vary depending on your data. For us to use the matplotlib color maps, we need to first scale from 0-1 which is easy enough below."
   ]
  },
  {
   "cell_type": "code",
   "execution_count": 5,
   "metadata": {
    "collapsed": true
   },
   "outputs": [],
   "source": [
    "def float_to_pixel(array):\n",
    "    return ((array - array.min()) * (1./(array.max() - array.min())))"
   ]
  },
  {
   "cell_type": "code",
   "execution_count": 6,
   "metadata": {
    "collapsed": false
   },
   "outputs": [],
   "source": [
    "scaled_outputs = float_to_pixel(Z)"
   ]
  },
  {
   "cell_type": "markdown",
   "metadata": {},
   "source": [
    "## Step 2. \n",
    "\n",
    "For manipulating jpg and png images, the values need to be between 0-255. After scaling the values between 0-1 we mulitply by 255 to get pixels in the range we want and conver to usigned 8 bit integers. Now we're ready to tile."
   ]
  },
  {
   "cell_type": "code",
   "execution_count": 7,
   "metadata": {
    "collapsed": false
   },
   "outputs": [],
   "source": [
    "img=np.uint8(plt.cm.Reds(scaled_outputs) * 255)"
   ]
  },
  {
   "cell_type": "markdown",
   "metadata": {},
   "source": [
    "## Plotting Original Data\n",
    "We want to verify that the eventual output lines up correctly so using these few lines we can create a KML with the training data. No need for a some extra library, just a few tags."
   ]
  },
  {
   "cell_type": "code",
   "execution_count": 8,
   "metadata": {
    "collapsed": false
   },
   "outputs": [],
   "source": [
    "header = \"\"\"<?xml version=\"1.0\" encoding=\"UTF-8\"?>\n",
    "<kml xmlns=\"http://www.opengis.net/kml/2.2\">\n",
    "<Document>\n",
    "<Folder>\n",
    "<name>Points</name>\n",
    "\"\"\"\n",
    "point_format = \"\"\"\n",
    "  <Placemark>\n",
    "    <name></name>\n",
    "    <description></description>\n",
    "    <Point>\n",
    "      <coordinates>{lat},{lon},0</coordinates>\n",
    "    </Point>\n",
    "  </Placemark>\n",
    "\"\"\"\n",
    "with open(\"species.kml\", 'w') as target:\n",
    "    samples = np.rad2deg(Xtrain[ytrain==i])\n",
    "    target.write(header)\n",
    "    for idx in xrange(samples.shape[0]):\n",
    "        lon, lat = samples[idx]\n",
    "        target.write(point_format.format(lat=lat, lon=lon))\n",
    "    target.write(\"</Folder></Document></kml>\")"
   ]
  },
  {
   "cell_type": "markdown",
   "metadata": {},
   "source": [
    "## Step 3\n",
    "Gather some basic image statistics. We'll use these later to map pixels to a geographic area."
   ]
  },
  {
   "cell_type": "code",
   "execution_count": 9,
   "metadata": {
    "collapsed": false
   },
   "outputs": [],
   "source": [
    "rows, cols, channels = img.shape\n",
    "min_lon, max_lon = X.min(), X.max()\n",
    "min_lat, max_lat = Y.min(), Y.max()\n",
    "ave_width = (max_lon - min_lon)/cols\n",
    "ave_height = (max_lat - min_lat)/rows"
   ]
  },
  {
   "cell_type": "markdown",
   "metadata": {},
   "source": [
    "## Step 4\n",
    "The overlay template. Pulled from right from the [docs](https://developers.google.com/kml/documentation/kml_tut)."
   ]
  },
  {
   "cell_type": "code",
   "execution_count": 10,
   "metadata": {
    "collapsed": false
   },
   "outputs": [],
   "source": [
    "header = \"\"\"<?xml version=\"1.0\" encoding=\"UTF-8\"?>\n",
    "<kml xmlns=\"http://www.opengis.net/kml/2.2\">\n",
    "  <Folder>\n",
    "    <name>Species Density</name>\n",
    "    <description>Examples of ground overlays</description>\"\"\"\n",
    "overlay = \"\"\"<GroundOverlay>\n",
    "      <name>tile_no</name>\n",
    "      <description></description>\n",
    "      <Icon>\n",
    "        <href>{tile}</href>\n",
    "      </Icon>\n",
    "      <LatLonBox>\n",
    "        <north>{north}</north>\n",
    "        <south>{south}</south>\n",
    "        <east>{east}</east>\n",
    "        <west>{west}</west>\n",
    "        <rotation>0</rotation>\n",
    "      </LatLonBox>\n",
    "    </GroundOverlay>\"\"\"\n",
    "footer= \"\"\"  </Folder>\n",
    "</kml>\"\"\""
   ]
  },
  {
   "cell_type": "markdown",
   "metadata": {},
   "source": [
    "## Step 5\n",
    "Making the overlay. Thre is a lot going on here but the essential idea is that we're going through the original array in chunks (see tile size below), cutting out smaller squares into a new array and writing them to disk along with an overlay entry. "
   ]
  },
  {
   "cell_type": "code",
   "execution_count": 11,
   "metadata": {
    "collapsed": false
   },
   "outputs": [],
   "source": [
    "tile_size = 30\n",
    "\n",
    "# We start in the upper left so northern-most latitude and east-most longitude\n",
    "current_lat = max_lat\n",
    "current_lon = min_lon\n",
    "\n",
    "# for tile files\n",
    "tile_no = 0\n",
    "\n",
    "# Make the output folder if it doesn't already exist\n",
    "if not os.path.exists('density'):\n",
    "    os.mkdir('density')\n",
    "\n",
    "# New kml file. All items can be placed in a folder, zipped, and change the extension to kmz. GE will recognize it\n",
    "with open(\"density/overlay.kml\", 'w') as target:\n",
    "    \n",
    "    # kml header info from above \n",
    "    target.write(header)\n",
    "    \n",
    "    # add this extra logic in the range to max sure we include all image cells\n",
    "    for row in xrange(0, rows + (tile_size - (rows % tile_size) + 1), tile_size):\n",
    "        for col in xrange(0, cols + (tile_size - (cols % tile_size) + 1), tile_size):\n",
    "            \n",
    "            # Create a blank array to store a tile\n",
    "            array = np.zeros(shape=(tile_size, tile_size, channels), dtype=img.dtype)\n",
    "            \n",
    "            # get the step/tile size\n",
    "            stop_col = col + tile_size\n",
    "            stop_row = row + tile_size\n",
    "            \n",
    "            # Copy the original image slice\n",
    "            im_slice = img[row:stop_row, col:stop_col, :].copy()\n",
    "            \n",
    "            # get the shape. We'll use these for indexing \n",
    "            # so we don't get index errors \n",
    "            row_slice, col_slice, _ = im_slice.shape\n",
    "            \n",
    "            # cut out the data\n",
    "            array[:row_slice,:col_slice,:] = im_slice\n",
    "            \n",
    "            # Convery to an image with PIL\n",
    "            out_img = Image.fromarray(array)\n",
    "            \n",
    "            # Save with a unique name\n",
    "            tile = os.path.abspath(\"density/tile_{0}.png\".format(tile_no))\n",
    "            out_img.save(tile)\n",
    "            \n",
    "            # Caluclate the bounding box using the average height and average column width\n",
    "            north = max_lat - (row * ave_height)\n",
    "            south = max_lat - ((stop_row) * ave_height)\n",
    "            east = min_lon + (col * ave_width)\n",
    "            west = min_lon + (stop_col * ave_width)\n",
    "            \n",
    "            # Write the overlay information \n",
    "            target.write(overlay.format(tile=tile, north=north, \n",
    "                                        south=south, east=east, west=west))\n",
    "            \n",
    "            # increment the tileid\n",
    "            tile_no += 1\n",
    "        \n",
    "        # increment the latitude for the next row. Subtract becasue\n",
    "        # We start in the top left\n",
    "        current_lat = current_lat - (ave_height * row)\n",
    "    \n",
    "    # wrap it up with the footer\n",
    "    target.write(footer)"
   ]
  },
  {
   "cell_type": "markdown",
   "metadata": {},
   "source": [
    "## Optional: Create a KMZ\n",
    "\n",
    "A KMZ is just a zipfile with a kml and supporting files. Just change the file extension."
   ]
  },
  {
   "cell_type": "code",
   "execution_count": 12,
   "metadata": {
    "collapsed": false
   },
   "outputs": [],
   "source": [
    "with ZipFile(\"density.kmz\", 'w') as archive:\n",
    "    for file_name in os.listdir('density'):\n",
    "        archive.write(os.path.join('density', file_name))"
   ]
  }
 ],
 "metadata": {
  "kernelspec": {
   "display_name": "Python 2",
   "language": "python",
   "name": "python2"
  },
  "language_info": {
   "codemirror_mode": {
    "name": "ipython",
    "version": 2
   },
   "file_extension": ".py",
   "mimetype": "text/x-python",
   "name": "python",
   "nbconvert_exporter": "python",
   "pygments_lexer": "ipython2",
   "version": "2.7.11"
  }
 },
 "nbformat": 4,
 "nbformat_minor": 0
}
